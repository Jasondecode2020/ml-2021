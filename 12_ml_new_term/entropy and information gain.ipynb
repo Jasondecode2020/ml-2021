{
 "cells": [
  {
   "cell_type": "markdown",
   "metadata": {},
   "source": [
    "### 1 entropy"
   ]
  },
  {
   "cell_type": "code",
   "execution_count": 1,
   "metadata": {},
   "outputs": [
    {
     "name": "stdout",
     "output_type": "stream",
     "text": [
      "entropy: 0.469 bits\n"
     ]
    }
   ],
   "source": [
    "from math import log2\n",
    "\n",
    "class1 = 10/100\n",
    "class2 = 90/100\n",
    "\n",
    "entropy = -(class1 * log2(class1) + class2 * log2(class2))\n",
    "print('entropy: %.3f bits' %entropy)"
   ]
  },
  {
   "cell_type": "code",
   "execution_count": 2,
   "metadata": {},
   "outputs": [
    {
     "name": "stdout",
     "output_type": "stream",
     "text": [
      "entropy: 1.000 bits\n"
     ]
    }
   ],
   "source": [
    "from math import log2\n",
    "\n",
    "class1 = 50/100\n",
    "class2 = 50/100\n",
    "\n",
    "entropy = -(class1 * log2(class1) + class2 * log2(class2))\n",
    "print('entropy: %.3f bits' %entropy)"
   ]
  },
  {
   "cell_type": "markdown",
   "metadata": {},
   "source": [
    "### 2 information gain"
   ]
  },
  {
   "cell_type": "code",
   "execution_count": 3,
   "metadata": {},
   "outputs": [],
   "source": [
    "def entropy(class1, class2):\n",
    "    return -(class1 * log2(class1) + class2 * log2(class2))"
   ]
  },
  {
   "cell_type": "code",
   "execution_count": 4,
   "metadata": {},
   "outputs": [
    {
     "name": "stdout",
     "output_type": "stream",
     "text": [
      "entropy: 0.934 bits\n"
     ]
    }
   ],
   "source": [
    "class1 = 13/20\n",
    "class2 = 7/20\n",
    "\n",
    "s_entropy = entropy(class1, class2)\n",
    "print('entropy: %.3f bits' %s_entropy)"
   ]
  },
  {
   "cell_type": "code",
   "execution_count": 6,
   "metadata": {},
   "outputs": [
    {
     "name": "stdout",
     "output_type": "stream",
     "text": [
      "s1 entropy: 0.544 bits\n"
     ]
    }
   ],
   "source": [
    "s1_class1 = 7/8\n",
    "s1_class2 = 1/8\n",
    "\n",
    "s1_entropy = entropy(s1_class1, s1_class2)\n",
    "print('s1 entropy: %.3f bits' %s1_entropy)"
   ]
  },
  {
   "cell_type": "code",
   "execution_count": 8,
   "metadata": {},
   "outputs": [
    {
     "name": "stdout",
     "output_type": "stream",
     "text": [
      "s2 entropy: 1.000 bits\n"
     ]
    }
   ],
   "source": [
    "s2_class1 = 6/12\n",
    "s2_class2 = 6/12\n",
    "\n",
    "s2_entropy = entropy(s2_class1, s2_class2)\n",
    "print('s2 entropy: %.3f bits' %s2_entropy)"
   ]
  },
  {
   "cell_type": "code",
   "execution_count": 10,
   "metadata": {},
   "outputs": [
    {
     "name": "stdout",
     "output_type": "stream",
     "text": [
      "info gain: 0.117 bits\n"
     ]
    }
   ],
   "source": [
    "info_gain = s_entropy - (8 / 20 * s1_entropy + 12 / 20 * s2_entropy)\n",
    "print('info gain: %.3f bits' %info_gain)"
   ]
  }
 ],
 "metadata": {
  "kernelspec": {
   "display_name": "Python 3",
   "language": "python",
   "name": "python3"
  },
  "language_info": {
   "codemirror_mode": {
    "name": "ipython",
    "version": 3
   },
   "file_extension": ".py",
   "mimetype": "text/x-python",
   "name": "python",
   "nbconvert_exporter": "python",
   "pygments_lexer": "ipython3",
   "version": "3.8.3"
  }
 },
 "nbformat": 4,
 "nbformat_minor": 4
}
