{
 "cells": [
  {
   "cell_type": "markdown",
   "metadata": {},
   "source": [
    "### 1 entropy"
   ]
  },
  {
   "cell_type": "markdown",
   "metadata": {},
   "source": [
    "Entropy is the measures of impurity, disorder or uncertainty in a bunch of examples. Entropy controls how a Decision Tree decides to split the data. The below image shows impurity level of each set."
   ]
  },
  {
   "cell_type": "code",
   "execution_count": 25,
   "metadata": {},
   "outputs": [
    {
     "name": "stdout",
     "output_type": "stream",
     "text": [
      "entropy: 0.469 bits\n"
     ]
    }
   ],
   "source": [
    "from math import log2, log\n",
    "\n",
    "class1 = 10/100\n",
    "class2 = 90/100\n",
    "\n",
    "entropy = -(class1 * log2(class1) + class2 * log2(class2))\n",
    "print('entropy: %.3f bits' %entropy)"
   ]
  },
  {
   "cell_type": "code",
   "execution_count": 26,
   "metadata": {},
   "outputs": [
    {
     "name": "stdout",
     "output_type": "stream",
     "text": [
      "entropy: 1.000 bits\n"
     ]
    }
   ],
   "source": [
    "from math import log2\n",
    "\n",
    "class1 = 50/100\n",
    "class2 = 50/100\n",
    "\n",
    "entropy = -(class1 * log2(class1) + class2 * log2(class2))\n",
    "print('entropy: %.3f bits' %entropy)"
   ]
  },
  {
   "cell_type": "markdown",
   "metadata": {},
   "source": [
    "### 2 information gain"
   ]
  },
  {
   "cell_type": "markdown",
   "metadata": {},
   "source": [
    "Information gain (IG) measures how much “information” a feature gives us about the class.It tells us how important a given attribute of the feature vectors is. Information gain (IG) is used to decide the ordering of attributes in the nodes of a decision tree."
   ]
  },
  {
   "cell_type": "code",
   "execution_count": 27,
   "metadata": {},
   "outputs": [],
   "source": [
    "def entropy(class1, class2):\n",
    "    return -(class1 * log2(class1) + class2 * log2(class2))"
   ]
  },
  {
   "cell_type": "code",
   "execution_count": 28,
   "metadata": {},
   "outputs": [
    {
     "name": "stdout",
     "output_type": "stream",
     "text": [
      "entropy: 0.934 bits\n"
     ]
    }
   ],
   "source": [
    "class1 = 13/20\n",
    "class2 = 7/20\n",
    "\n",
    "s_entropy = entropy(class1, class2)\n",
    "print('entropy: %.3f bits' %s_entropy)"
   ]
  },
  {
   "cell_type": "code",
   "execution_count": 29,
   "metadata": {},
   "outputs": [
    {
     "name": "stdout",
     "output_type": "stream",
     "text": [
      "s1 entropy: 0.544 bits\n"
     ]
    }
   ],
   "source": [
    "s1_class1 = 7/8\n",
    "s1_class2 = 1/8\n",
    "\n",
    "s1_entropy = entropy(s1_class1, s1_class2)\n",
    "print('s1 entropy: %.3f bits' %s1_entropy)"
   ]
  },
  {
   "cell_type": "code",
   "execution_count": 30,
   "metadata": {},
   "outputs": [
    {
     "name": "stdout",
     "output_type": "stream",
     "text": [
      "s2 entropy: 1.000 bits\n"
     ]
    }
   ],
   "source": [
    "s2_class1 = 6/12\n",
    "s2_class2 = 6/12\n",
    "\n",
    "s2_entropy = entropy(s2_class1, s2_class2)\n",
    "print('s2 entropy: %.3f bits' %s2_entropy)"
   ]
  },
  {
   "cell_type": "code",
   "execution_count": 31,
   "metadata": {
    "scrolled": true
   },
   "outputs": [
    {
     "name": "stdout",
     "output_type": "stream",
     "text": [
      "info gain: 0.117 bits\n"
     ]
    }
   ],
   "source": [
    "info_gain = s_entropy - (8 / 20 * s1_entropy + 12 / 20 * s2_entropy)\n",
    "print('info gain: %.3f bits' %info_gain)"
   ]
  },
  {
   "cell_type": "markdown",
   "metadata": {},
   "source": [
    "### 3 PAC"
   ]
  },
  {
   "cell_type": "code",
   "execution_count": 80,
   "metadata": {},
   "outputs": [],
   "source": [
    "def m_examples(e, delta):# how many examples exhausted\n",
    "    return 1/e * ((log(1000, 2.718) + log(1/delta, 2.718)))"
   ]
  },
  {
   "cell_type": "code",
   "execution_count": 82,
   "metadata": {},
   "outputs": [
    {
     "data": {
      "text/plain": [
       "216.41800483127824"
      ]
     },
     "execution_count": 82,
     "metadata": {},
     "output_type": "execute_result"
    }
   ],
   "source": [
    "m_examples(0.05, 0.02)"
   ]
  },
  {
   "cell_type": "code",
   "execution_count": 77,
   "metadata": {},
   "outputs": [],
   "source": [
    "def hoef_examples(e, delta):# how many examples exhausted\n",
    "    return 1/(2 *e**2) * ((log(1000, 2.718) + log(1/delta, 2.718)))"
   ]
  },
  {
   "cell_type": "code",
   "execution_count": 68,
   "metadata": {},
   "outputs": [
    {
     "data": {
      "text/plain": [
       "12346.425574810768"
      ]
     },
     "execution_count": 68,
     "metadata": {},
     "output_type": "execute_result"
    }
   ],
   "source": [
    "hoef_examples(0.02, 0.05)"
   ]
  },
  {
   "cell_type": "code",
   "execution_count": 45,
   "metadata": {},
   "outputs": [
    {
     "name": "stdout",
     "output_type": "stream",
     "text": [
      "entropy: 0.722 bits\n"
     ]
    }
   ],
   "source": [
    "def entropy(class1, class2):\n",
    "    return -(class1 * log2(class1) + class2 * log2(class2))\n",
    "class1 = 1/5\n",
    "class2 = 4/5\n",
    "\n",
    "s_entropy = entropy(class1, class2)\n",
    "print('entropy: %.3f bits' %s_entropy)"
   ]
  },
  {
   "cell_type": "code",
   "execution_count": 46,
   "metadata": {},
   "outputs": [
    {
     "data": {
      "text/plain": [
       "1.444"
      ]
     },
     "execution_count": 46,
     "metadata": {},
     "output_type": "execute_result"
    }
   ],
   "source": [
    "0.722 * 2"
   ]
  },
  {
   "cell_type": "code",
   "execution_count": 47,
   "metadata": {},
   "outputs": [
    {
     "name": "stdout",
     "output_type": "stream",
     "text": [
      "entropy: 1.000 bits\n"
     ]
    }
   ],
   "source": [
    "def entropy(class1, class2):\n",
    "    return -(class1 * log2(class1) + class2 * log2(class2))\n",
    "class1 = 3/6\n",
    "class2 = 3/6\n",
    "\n",
    "s_entropy = entropy(class1, class2)\n",
    "print('entropy: %.3f bits' %s_entropy)"
   ]
  },
  {
   "cell_type": "code",
   "execution_count": 63,
   "metadata": {},
   "outputs": [
    {
     "name": "stdout",
     "output_type": "stream",
     "text": [
      "entropy: 0.918 bits\n"
     ]
    }
   ],
   "source": [
    "def entropy(class1, class2):\n",
    "    return -(class1 * log2(class1) + class2 * log2(class2))\n",
    "class1 = 4/6\n",
    "class2 = 2/6\n",
    "\n",
    "s_entropy = entropy(class1, class2)\n",
    "print('entropy: %.3f bits' %s_entropy)"
   ]
  },
  {
   "cell_type": "code",
   "execution_count": 49,
   "metadata": {},
   "outputs": [
    {
     "name": "stdout",
     "output_type": "stream",
     "text": [
      "entropy: 1.585 bits\n"
     ]
    }
   ],
   "source": [
    "def entropy(class1, class2, class3):\n",
    "    return -(class1 * log2(class1) + class2 * log2(class2) + class3 * log2(class3))\n",
    "class1 = 2/6\n",
    "class2 = 2/6\n",
    "class3 = 2/6\n",
    "\n",
    "s_entropy = entropy(class1, class2, class3)\n",
    "print('entropy: %.3f bits' %s_entropy)"
   ]
  },
  {
   "cell_type": "code",
   "execution_count": 57,
   "metadata": {},
   "outputs": [
    {
     "data": {
      "text/plain": [
       "-0.35671192935510176"
      ]
     },
     "execution_count": 57,
     "metadata": {},
     "output_type": "execute_result"
    }
   ],
   "source": [
    "log(7, 2.718) - log(5, 2.718) - log(2, 2.718)"
   ]
  },
  {
   "cell_type": "code",
   "execution_count": 59,
   "metadata": {},
   "outputs": [
    {
     "data": {
      "text/plain": [
       "0.41176759504897525"
      ]
     },
     "execution_count": 59,
     "metadata": {},
     "output_type": "execute_result"
    }
   ],
   "source": [
    "1/(2.718 ** (0.3567) + 1)"
   ]
  },
  {
   "cell_type": "code",
   "execution_count": 60,
   "metadata": {},
   "outputs": [
    {
     "data": {
      "text/plain": [
       "0.5882324049510248"
      ]
     },
     "execution_count": 60,
     "metadata": {},
     "output_type": "execute_result"
    }
   ],
   "source": [
    "1-0.41176759504897525"
   ]
  },
  {
   "cell_type": "code",
   "execution_count": 65,
   "metadata": {},
   "outputs": [
    {
     "data": {
      "text/plain": [
       "0.8666666666666667"
      ]
     },
     "execution_count": 65,
     "metadata": {},
     "output_type": "execute_result"
    }
   ],
   "source": [
    "13/15"
   ]
  },
  {
   "cell_type": "code",
   "execution_count": 66,
   "metadata": {},
   "outputs": [
    {
     "data": {
      "text/plain": [
       "7660"
      ]
     },
     "execution_count": 66,
     "metadata": {},
     "output_type": "execute_result"
    }
   ],
   "source": [
    "2100+5050+510"
   ]
  },
  {
   "cell_type": "code",
   "execution_count": null,
   "metadata": {},
   "outputs": [],
   "source": []
  }
 ],
 "metadata": {
  "kernelspec": {
   "display_name": "Python 3",
   "language": "python",
   "name": "python3"
  },
  "language_info": {
   "codemirror_mode": {
    "name": "ipython",
    "version": 3
   },
   "file_extension": ".py",
   "mimetype": "text/x-python",
   "name": "python",
   "nbconvert_exporter": "python",
   "pygments_lexer": "ipython3",
   "version": "3.8.3"
  }
 },
 "nbformat": 4,
 "nbformat_minor": 4
}
